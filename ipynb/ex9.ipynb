{
 "cells": [
  {
   "cell_type": "code",
   "execution_count": null,
   "id": "56c31bb8",
   "metadata": {},
   "outputs": [],
   "source": [
    "%pip install matplotlib torchinfo"
   ]
  },
  {
   "cell_type": "code",
   "execution_count": null,
   "id": "c617fc42",
   "metadata": {},
   "outputs": [],
   "source": [
    "import sys\n",
    "import os\n",
    "\n",
    "sys.path.insert(0, os.path.abspath(os.path.join(os.getcwd(), \"..\")))"
   ]
  },
  {
   "cell_type": "code",
   "execution_count": null,
   "id": "a43873db",
   "metadata": {},
   "outputs": [],
   "source": [
    "import json\n",
    "\n",
    "with open(\"../db-dump-1745150542.json\") as f:\n",
    "    data = json.load(f)\n",
    "\n",
    "assert len(data[\"temperature\"]) >= 360, \"Temperature data is less than 360 entries\"\n",
    "assert len(data[\"humidity\"]) >= 360, \"Humidity data is less than 360 entries\""
   ]
  },
  {
   "cell_type": "code",
   "execution_count": null,
   "id": "308136ca",
   "metadata": {},
   "outputs": [],
   "source": [
    "import numpy as np\n",
    "\n",
    "temp_values = np.array([item[\"value\"] for item in data[\"temperature\"]])\n",
    "temp_times = np.array([item[\"ts\"] for item in data[\"temperature\"]])\n",
    "humi_values = np.array([item[\"value\"] for item in data[\"humidity\"]])\n",
    "humi_times = np.array([item[\"ts\"] for item in data[\"humidity\"]])"
   ]
  },
  {
   "cell_type": "code",
   "execution_count": null,
   "id": "33888143",
   "metadata": {},
   "outputs": [],
   "source": [
    "import math\n",
    "\n",
    "times_interpolated = np.linspace(\n",
    "    temp_times[0], temp_times[-1], math.ceil((temp_times[-1] - temp_times[0]) / 5)\n",
    ")\n",
    "\n",
    "temp_interpolated = np.interp(times_interpolated, temp_times, temp_values)\n",
    "humi_interpolated = np.interp(times_interpolated, humi_times, humi_values)"
   ]
  },
  {
   "cell_type": "code",
   "execution_count": null,
   "id": "512b47a3",
   "metadata": {},
   "outputs": [],
   "source": [
    "import matplotlib.pyplot as plt\n",
    "from numpy.typing import NDArray\n",
    "\n",
    "\n",
    "def draw_diff_scatter(\n",
    "    times: NDArray[np.float32],\n",
    "    values: NDArray[np.float32],\n",
    "    interp_times: NDArray[np.float32],\n",
    "    interp_values: NDArray[np.float32],\n",
    "):\n",
    "    latest_time = times[-1]\n",
    "    plt.figure(figsize=(10, 6))\n",
    "    plt.scatter(times - latest_time, values, label=\"Original Data\", marker=\"o\")\n",
    "    plt.scatter(interp_times - latest_time, interp_values, label=\"Interpolated Data\", marker=\"x\")\n",
    "    plt.xlabel(\"Time (relative to latest) [sec]\")\n",
    "    plt.ylabel(\"Value\")\n",
    "    plt.title(\"Original vs Interpolated Data\")\n",
    "    plt.legend()\n",
    "    plt.grid(True)\n",
    "    plt.show()"
   ]
  },
  {
   "cell_type": "code",
   "execution_count": null,
   "id": "5d6c7813",
   "metadata": {},
   "outputs": [],
   "source": [
    "draw_diff_scatter(humi_times, humi_values, times_interpolated, humi_interpolated)"
   ]
  },
  {
   "cell_type": "code",
   "execution_count": null,
   "id": "383127d0",
   "metadata": {},
   "outputs": [],
   "source": [
    "draw_diff_scatter(temp_times, temp_values, times_interpolated, temp_interpolated)"
   ]
  },
  {
   "cell_type": "code",
   "execution_count": null,
   "id": "5cb9b68a",
   "metadata": {},
   "outputs": [],
   "source": [
    "from torch.utils.data import Dataset\n",
    "import torch\n",
    "from typing import override\n",
    "\n",
    "\n",
    "class DHTDataset(Dataset[tuple[torch.Tensor, torch.Tensor]]):\n",
    "    def __init__(self, data: list[float]):\n",
    "        self.inputs = []\n",
    "        self.target = []\n",
    "\n",
    "        for i in range(36, len(data) - 120):\n",
    "            self.inputs.append(data[i - 36 : i])\n",
    "            self.target.append(data[i + 120])\n",
    "\n",
    "    def __len__(self):\n",
    "        return len(self.inputs)\n",
    "\n",
    "    @override\n",
    "    def __getitem__(self, index: int):\n",
    "        return (\n",
    "            torch.tensor(self.inputs[index]).float(),\n",
    "            torch.tensor(self.target[index]).float(),\n",
    "        )"
   ]
  },
  {
   "cell_type": "code",
   "execution_count": null,
   "id": "b3673d86",
   "metadata": {},
   "outputs": [],
   "source": [
    "temp_train = DHTDataset(temp_interpolated[: len(temp_interpolated) - 180])\n",
    "temp_test = DHTDataset(temp_interpolated[len(temp_interpolated) - 180 :])\n",
    "\n",
    "humi_train = DHTDataset(humi_interpolated[: len(humi_interpolated) - 180])\n",
    "humi_test = DHTDataset(humi_interpolated[len(humi_interpolated) - 180 :])"
   ]
  },
  {
   "cell_type": "code",
   "execution_count": null,
   "id": "01f890aa",
   "metadata": {},
   "outputs": [],
   "source": [
    "from torch.utils.data import DataLoader\n",
    "\n",
    "temp_train_loader = DataLoader(temp_train, batch_size=32, shuffle=True)\n",
    "temp_test_loader = DataLoader(temp_test, batch_size=32, shuffle=False)\n",
    "humi_train_loader = DataLoader(humi_train, batch_size=32, shuffle=True)\n",
    "humi_test_loader = DataLoader(humi_test, batch_size=32, shuffle=False)"
   ]
  },
  {
   "cell_type": "code",
   "execution_count": null,
   "id": "4a3e2127",
   "metadata": {},
   "outputs": [],
   "source": [
    "import random\n",
    "\n",
    "print(f\"temperature train data length: {len(temp_train)}\")\n",
    "print(f\"temperature test data length: {len(temp_test)}\")\n",
    "print(f\"temperature data example: {temp_train[random.randint(0, len(temp_train))]}\")\n",
    "print(f\"temperature batch shape: {next(iter(temp_train_loader))[0].shape}\")\n",
    "\n",
    "print(f\"humidity train data length: {len(humi_train)}\")\n",
    "print(f\"humidity test data length: {len(humi_test)}\")\n",
    "print(f\"humidity data example: {humi_train[random.randint(0, len(humi_train))]}\")\n",
    "print(f\"humidity batch shape: {next(iter(humi_train_loader))[0].shape}\")"
   ]
  },
  {
   "cell_type": "code",
   "execution_count": null,
   "id": "b9f91e67",
   "metadata": {},
   "outputs": [],
   "source": [
    "from iot_lab_base.engine.ex9_temp import Ex9Model\n",
    "\n",
    "temp_model = Ex9Model(36, 32, 3)\n",
    "humi_model = Ex9Model(36, 32, 3)"
   ]
  },
  {
   "cell_type": "code",
   "execution_count": null,
   "id": "39fbca01",
   "metadata": {},
   "outputs": [],
   "source": [
    "import torchinfo\n",
    "\n",
    "torchinfo.summary(\n",
    "    temp_model,\n",
    "    input_data=next(iter(temp_test_loader))[0],\n",
    "    col_names=(\"input_size\", \"output_size\", \"num_params\"),\n",
    "    row_settings=(\"depth\", \"var_names\"),\n",
    ")"
   ]
  },
  {
   "cell_type": "code",
   "execution_count": null,
   "id": "3fb162eb",
   "metadata": {},
   "outputs": [],
   "source": [
    "from typing import Any\n",
    "import torch.nn as nn\n",
    "import torch.optim as optim\n",
    "\n",
    "\n",
    "def train_model(model: Ex9Model, num_epochs: int, train_loader: DataLoader[Any]):\n",
    "    criterion = nn.MSELoss()\n",
    "    optimizer = optim.Adam(model.parameters(), lr=0.001)\n",
    "    for epoch in range(num_epochs):\n",
    "        model.train()\n",
    "        optimizer.zero_grad()\n",
    "        for train_data, train_target in train_loader:\n",
    "            outputs = model(train_data)\n",
    "            loss = criterion(outputs, train_target.unsqueeze(1))\n",
    "            loss.backward()\n",
    "            optimizer.step()\n",
    "        if (epoch + 1) % 10 == 0:\n",
    "            print(f\"Epoch [{epoch+1}/{num_epochs}], Loss: {loss.item():.4f}\")\n",
    "    model.eval()\n",
    "    return model"
   ]
  },
  {
   "cell_type": "code",
   "execution_count": null,
   "id": "ddc3b842",
   "metadata": {},
   "outputs": [],
   "source": [
    "NUM_EPOCHS = 1000\n",
    "\n",
    "print(\"[Temperature model]\")\n",
    "train_model(temp_model, NUM_EPOCHS, temp_train_loader)\n",
    "print(\"\\n[Humidity model]\")\n",
    "train_model(humi_model, NUM_EPOCHS, humi_train_loader)\n",
    "\n",
    "print(\"\\nFinished training\")"
   ]
  },
  {
   "cell_type": "code",
   "execution_count": null,
   "id": "3fd2eb33",
   "metadata": {},
   "outputs": [],
   "source": [
    "def test_model(model: Ex9Model, test_loader: DataLoader[Any]):\n",
    "    criterion = nn.MSELoss()\n",
    "    model.eval()\n",
    "    with torch.no_grad():\n",
    "        for test_data, test_target in test_loader:\n",
    "            outputs = model(test_data)\n",
    "            loss = criterion(outputs, test_target.unsqueeze(1))\n",
    "            print(f\"Test Loss: {loss.item():.4f}\")"
   ]
  },
  {
   "cell_type": "code",
   "execution_count": null,
   "id": "ec02ed9d",
   "metadata": {},
   "outputs": [],
   "source": [
    "print(\"[Temperature]\")\n",
    "test_model(temp_model, temp_test_loader)\n",
    "\n",
    "print(\"\\n[Humidity]\")\n",
    "test_model(humi_model, humi_test_loader)"
   ]
  },
  {
   "cell_type": "code",
   "execution_count": null,
   "id": "e2edae1d",
   "metadata": {},
   "outputs": [],
   "source": [
    "torch.save(temp_model.state_dict(), \"../ex9_temp.ckpt\")\n",
    "torch.save(humi_model.state_dict(), \"../ex9_humi.ckpt\")"
   ]
  },
  {
   "cell_type": "code",
   "execution_count": null,
   "id": "3ddef6ba",
   "metadata": {},
   "outputs": [],
   "source": []
  }
 ],
 "metadata": {
  "kernelspec": {
   "display_name": ".venv",
   "language": "python",
   "name": "python3"
  },
  "language_info": {
   "codemirror_mode": {
    "name": "ipython",
    "version": 3
   },
   "file_extension": ".py",
   "mimetype": "text/x-python",
   "name": "python",
   "nbconvert_exporter": "python",
   "pygments_lexer": "ipython3",
   "version": "3.13.2"
  }
 },
 "nbformat": 4,
 "nbformat_minor": 5
}
