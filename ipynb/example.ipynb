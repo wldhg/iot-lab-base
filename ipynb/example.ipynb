{
 "cells": [
  {
   "cell_type": "code",
   "execution_count": null,
   "id": "f5b13245",
   "metadata": {},
   "outputs": [],
   "source": [
    "import sys\n",
    "import os\n",
    "\n",
    "sys.path.insert(0, os.path.abspath(os.path.join(os.getcwd(), \"..\")))"
   ]
  },
  {
   "cell_type": "code",
   "execution_count": null,
   "id": "085b673c",
   "metadata": {},
   "outputs": [],
   "source": [
    "from iot_lab_base.engine.example import ExampleModel\n",
    "import torch\n",
    "\n",
    "model = ExampleModel()\n",
    "\n",
    "data_X = torch.rand(100, 10)\n",
    "data_y = torch.rand(100, 1)\n",
    "\n",
    "# You may want to regulate/interpolate the data"
   ]
  },
  {
   "cell_type": "code",
   "execution_count": null,
   "id": "fce8ab2b",
   "metadata": {},
   "outputs": [],
   "source": [
    "import torch.nn as nn\n",
    "import torch.optim as optim\n",
    "\n",
    "loss = nn.MSELoss()\n",
    "optimizer = optim.Adam(model.parameters(), lr=0.01)\n",
    "\n",
    "for epoch in range(100):\n",
    "    optimizer.zero_grad()\n",
    "    output = model(data_X)\n",
    "    loss_value = loss(output, data_y)\n",
    "    loss_value.backward()\n",
    "    optimizer.step()\n",
    "    print(f\"Epoch {epoch+1}, Loss: {loss_value.item()}\")\n",
    "\n",
    "print(\"Training complete.\")"
   ]
  },
  {
   "cell_type": "code",
   "execution_count": null,
   "id": "0d2ec01c",
   "metadata": {},
   "outputs": [],
   "source": [
    "torch.save(model.state_dict(), \"../example.ckpt\")"
   ]
  },
  {
   "cell_type": "markdown",
   "id": "1b5a24d4",
   "metadata": {},
   "source": [
    "**End of Notebook**\n"
   ]
  }
 ],
 "metadata": {
  "kernelspec": {
   "display_name": ".venv",
   "language": "python",
   "name": "python3"
  },
  "language_info": {
   "codemirror_mode": {
    "name": "ipython",
    "version": 3
   },
   "file_extension": ".py",
   "mimetype": "text/x-python",
   "name": "python",
   "nbconvert_exporter": "python",
   "pygments_lexer": "ipython3",
   "version": "3.13.2"
  }
 },
 "nbformat": 4,
 "nbformat_minor": 5
}
